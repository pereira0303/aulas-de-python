{
  "nbformat": 4,
  "nbformat_minor": 0,
  "metadata": {
    "kernelspec": {
      "display_name": "Python 3",
      "language": "python",
      "name": "python3"
    },
    "language_info": {
      "codemirror_mode": {
        "name": "ipython",
        "version": 3
      },
      "file_extension": ".py",
      "mimetype": "text/x-python",
      "name": "python",
      "nbconvert_exporter": "python",
      "pygments_lexer": "ipython3",
      "version": "3.7.4"
    },
    "colab": {
      "name": "1_numpy.ipynb",
      "provenance": [],
      "include_colab_link": true
    }
  },
  "cells": [
    {
      "cell_type": "markdown",
      "metadata": {
        "id": "view-in-github",
        "colab_type": "text"
      },
      "source": [
        "<a href=\"https://colab.research.google.com/github/pereira0303/aulas-de-python/blob/master/1_numpy.ipynb\" target=\"_parent\"><img src=\"https://colab.research.google.com/assets/colab-badge.svg\" alt=\"Open In Colab\"/></a>"
      ]
    },
    {
      "cell_type": "markdown",
      "metadata": {
        "id": "6m25nc12g1a-",
        "colab_type": "text"
      },
      "source": [
        "# NumPy - Manipulando Dados Numéricos"
      ]
    },
    {
      "cell_type": "markdown",
      "metadata": {
        "id": "X7qpb-fug1a_",
        "colab_type": "text"
      },
      "source": [
        "## O que é o NumPy?\n",
        "\n",
        "O *NumPy* é uma biblioteca para a Linguagem de Programação Python, que da suporte à linguagem para trabalhar com grandes matrizes e vetores multidimensionais, juntamente com uma ampla coleção de funções matemáticas de alto nível.\n",
        "\n",
        "Especificamente, essa bibioteca fornece ao Python, objetos *arrays* multidimensionais e vários objetos derivados (p. ex.: masked arrays e matrices), com um conjunto de funções para operações rápidas em vetores e a Computação Numérica, por exemplo: \n",
        "\n",
        "* Funções Matemáticas e Lógicas;\n",
        "* Manipulação de Formas;\n",
        "* Ordenação;\n",
        "* Seleção;\n",
        "* Leitura de Dados (E/S);\n",
        "* Transformada Discreta de Fourier;\n",
        "* Álgebra Linear Básica;\n",
        "* Operações Estatísticas Básicas;\n",
        "* Simulação Aleatória.\n",
        "\n",
        "No núcleo da biblioteca NumPy temos o objeto *narray* que encapsula vetores n-dimensionais com tipos de dados homgêneos e muitas operações executadas no código compilado a fim de desempenho. \n",
        "\n",
        "### NumPy X Sequências Padrão do Python\n",
        "\n",
        "Existem várias diferenças importantes entre os vetores do NumPy e as sequências padrão do Python, são elas: \n",
        "\n",
        "* **Vetores Estáticos:** os vetores do NumPy têm tamanho fixo em sua criação, diferente das listas do Python que podem crescer dinamicamente em tempo de execução. Logo, quando alteramos o tamanho de um objeto *narray*, será criado um novo vetor e excluído o original;\n",
        "\n",
        "* **Tipo de Dados Homogêneo dos Itens:**  todos os elementos dos vetores em NumPy, devem ser obrigatoriamente do mesmo tipo de dados, logo, eles irão ter o mesmo tamanho em memória;\n",
        "\n",
        "* **Operações Matemáticas Avançadas:** os vetores do NumPy otimizam operações matemáticas avançadas e qualquer tipo de outras operações para um grande número de dados. Na prática, essas operações são executadas mais eficientemente e com menos código do que se usarmos as sequências padrão do Python;"
      ]
    },
    {
      "cell_type": "code",
      "metadata": {
        "id": "jDQP-BdUg1bA",
        "colab_type": "code",
        "colab": {}
      },
      "source": [
        "# NumPy na Prática\n",
        "import numpy as np             # Importa a biblioteca NumPy para seu projeto\n",
        "\n",
        "vetor = np.array([0, 1, 2, 3]) # instancia um vetor (array) em NumPy\n",
        "vetor                          # Imprime seu conteúdo"
      ],
      "execution_count": 0,
      "outputs": []
    },
    {
      "cell_type": "markdown",
      "metadata": {
        "id": "ODa2hjKHg1bE",
        "colab_type": "text"
      },
      "source": [
        "## Tipos de Dados"
      ]
    },
    {
      "cell_type": "markdown",
      "metadata": {
        "id": "ELYoYlAFg1bE",
        "colab_type": "text"
      },
      "source": [
        "| Tipo de Dado | Descrição                                            |\n",
        "|:-------------|:-----------------------------------------------------|\n",
        "| np.int64     | Números inteiros de 64bits                           |\n",
        "| np.float32   | Números de ponto flutuante de precisão dupla (Reais) |\n",
        "| np.complex   | Números Complexos                                    |\n",
        "| np.bool      | Tipo lógico (Booleano)                               |\n",
        "| np.object    | Tipo object do Python                                |\n",
        "| np.string_   | Cadeia de Caracteres Fixa (String)                   |\n",
        "| np.unicode_  | Cadeia de Caracteres Unicode Fixa (String)           |"
      ]
    },
    {
      "cell_type": "markdown",
      "metadata": {
        "id": "xu0HQ3rUg1bF",
        "colab_type": "text"
      },
      "source": [
        "## Criação de Vetores"
      ]
    },
    {
      "cell_type": "markdown",
      "metadata": {
        "id": "H2XRjIBzg1bF",
        "colab_type": "text"
      },
      "source": [
        "### Construção Manual de Vetores"
      ]
    },
    {
      "cell_type": "code",
      "metadata": {
        "id": "0Eonc6Dcg1bG",
        "colab_type": "code",
        "colab": {}
      },
      "source": [
        "# CONSTRUÇÃO MANUAL DE VETORES\n",
        "# Unidimencional (1D)\n",
        "\n",
        "vetor_numpy = np.array([0, 1, 2, 3, 4])\n",
        "\n",
        "print(vetor_numpy)        # Imprime o vetor\n",
        "print(vetor_numpy.ndim)   # Retorna o número de dimensões do vetor\n",
        "print(vetor_numpy.shape)  # Retorna a forma do vetor ou atribui uma tupla para as dimnesões do vetor\n",
        "print(len(vetor_numpy))   # Retorna o número de elementos do vetor\n",
        "\n",
        "# Multi-dimencional (n-D)\n",
        "\n",
        "# Matriz Bidimensional 2 (linhas) X 3 (colunas)\n",
        "matriz_numpy = np.array([[0, 1, 2], [3, 4, 5]]) \n",
        "\n",
        "print(matriz_numpy)\n",
        "print(matriz_numpy.ndim)\n",
        "print(matriz_numpy.shape)\n",
        "print(len(matriz_numpy))         # Retorna o tamanho da primeira dimensão do vetor (linhas)"
      ],
      "execution_count": 0,
      "outputs": []
    },
    {
      "cell_type": "markdown",
      "metadata": {
        "id": "hhjvuWYFg1bI",
        "colab_type": "text"
      },
      "source": [
        "### Funções para Criação de Vetores"
      ]
    },
    {
      "cell_type": "code",
      "metadata": {
        "id": "RFn7y9mZg1bJ",
        "colab_type": "code",
        "colab": {}
      },
      "source": [
        "# Vetores Igualmente Espaçado\n",
        "print(\"Vetores Igualmente Espaçado\")\n",
        "vetor = np.arange(10) # 0 .. n - 1\n",
        "print(vetor)\n",
        "\n",
        "vetor_impar = np.arange(1, 9, 2) # Início, Fim e Incremento\n",
        "print(vetor_impar)\n",
        "\n",
        "# Vetores por números de pontos\n",
        "print(\"\\nVetores por Números de Pontos\")\n",
        "numero_pontos = np.linspace(0, 1, 6) # Início, Fim, Número de Pontos\n",
        "print(numero_pontos)\n",
        "\n",
        "# Matrizes Populares\n",
        "print(\"\\nMATRIZES POPULARES\")\n",
        "print(\"\\nMatriz de Uns\")\n",
        "matriz_de_uns = np.ones((3, 3)) # Tupla (3, 3)\n",
        "print(matriz_de_uns)\n",
        "\n",
        "print(\"\\nMatriz de Zeros\")\n",
        "matriz_de_zeros = np.zeros((2, 2))\n",
        "print(matriz_de_zeros)\n",
        "\n",
        "print(\"\\nMatriz Zerada com Diagonal de Uns\")\n",
        "matriz_zeros_diagonal_uns = np.eye(4)\n",
        "print(matriz_zeros_diagonal_uns)\n",
        "\n",
        "print(\"\\nMatriz Zerada com Diagonal de Permutações\")\n",
        "matriz_diagonal_permutacao = np.diag(np.array([1, 2, 3, 4]))\n",
        "print(matriz_diagonal_permutacao)\n",
        "\n",
        "print(\"\\nVETORES ALEATÓRIOS\")\n",
        "print(\"\\nVetor Aleatório Uniforme\")\n",
        "vetor_uniforme_aleatorio = np.random.rand(4)\n",
        "print(vetor_uniforme_aleatorio)\n",
        "\n",
        "print(\"\\nVetor Aleatório Gaussiano\")\n",
        "vetor_aleatorio_gaussiano = np.random.randn(4)\n",
        "print(vetor_aleatorio_gaussiano)\n",
        "\n",
        "np.random.seed(1234) # Definindo a semente aleatória"
      ],
      "execution_count": 0,
      "outputs": []
    },
    {
      "cell_type": "markdown",
      "metadata": {
        "id": "avGp6QXsg1bM",
        "colab_type": "text"
      },
      "source": [
        "### Operações Matemáticas com Vetores"
      ]
    },
    {
      "cell_type": "code",
      "metadata": {
        "id": "fxj6hfIsg1bM",
        "colab_type": "code",
        "colab": {}
      },
      "source": [
        "import numpy as np\n",
        "\n",
        "vetor_a = np.array([1, 2, 3])\n",
        "vetor_b = np.array([4, 5, 6])\n",
        "\n",
        "\n",
        "# Adição\n",
        "vetor_a + vetor_b              # Usando operador aritmético\n",
        "np.add(vetor_a, vetor_b)       # Usando função definida do NumPy\n",
        "\n",
        "# Subtração\n",
        "vetor_a - vetor_b              # Usando operador aritmético\n",
        "np.subtract(vetor_a, vetor_b)  # Usando função definida do NumPy\n",
        "\n",
        "# Multiplicação\n",
        "vetor_a * vetor_b              # Usando operador aritmético\n",
        "np.multiply(vetor_a, vetor_b)  # Usando função definida do NumPy\n",
        "\n",
        "# Divisão\n",
        "vetor_a / vetor_b              # Usando operador aritmético\n",
        "np.divide(vetor_a, vetor_b)    # Usando função definida do NumPy\n",
        "\n",
        "# Raiz Quadrada\n",
        "np.sqrt(vetor_a)\n",
        "\n",
        "# Função Exponencia\n",
        "np.exp(vetor_a)                \n",
        "\n",
        "# Seno\n",
        "np.sin(vetor_a)\n",
        "\n",
        "# Coseno\n",
        "np.cos(vetor_a)\n",
        "\n",
        "# Logaritmo Natural\n",
        "np.log(vetor_a)"
      ],
      "execution_count": 0,
      "outputs": []
    },
    {
      "cell_type": "markdown",
      "metadata": {
        "id": "k1OFO49-g1bP",
        "colab_type": "text"
      },
      "source": [
        "### Comparação"
      ]
    },
    {
      "cell_type": "code",
      "metadata": {
        "id": "BxEQ1AJkg1bQ",
        "colab_type": "code",
        "colab": {}
      },
      "source": [
        "import numpy as np\n",
        "\n",
        "vetor_a = np.array([1, 2, 3])\n",
        "vetor_b = np.array([4, 5, 6])\n",
        "\n",
        "# Compara cada um dos elementos dos vetores\n",
        "# Retorna um vetor booleano com os resultados da comparação\n",
        "vetor_a == vetor_b\n",
        "vetor_a != vetor_b\n",
        "\n",
        "vetor_a > vetor_b\n",
        "vetor_a >= vetor_b\n",
        "\n",
        "vetor_a < vetor_b\n",
        "vetor_a <= vetor_b"
      ],
      "execution_count": 0,
      "outputs": []
    },
    {
      "cell_type": "markdown",
      "metadata": {
        "id": "e7dBI_2pg1bT",
        "colab_type": "text"
      },
      "source": [
        "### Funções Agregadas"
      ]
    },
    {
      "cell_type": "code",
      "metadata": {
        "id": "1beie3w_g1bU",
        "colab_type": "code",
        "outputId": "ce39d798-5bee-44f7-8b55-a62192d3dc58",
        "colab": {
          "base_uri": "https://localhost:8080/",
          "height": 34
        }
      },
      "source": [
        "import numpy as np\n",
        "\n",
        "vetor = np.array([1, 2, 3, 4, 5])\n",
        "\n",
        "vetor.sum()         # Soma todos os elementos do vetor\n",
        "vetor.cumsum()      # Soma acumulada de todos os elementos do vetor\n",
        "\n",
        "vetor.min()         # Retorna o menor elemento do vetor numérico\n",
        "vetor.max()         # Retorna o maior elemento do vetor numérico\n",
        "\n",
        "vetor.mean()        # Média\n",
        "np.median(vetor)    # Mediana\n",
        "np.corrcoef(vetor)  # Coeficiente de Correlação\n",
        "np.std(vetor)       # Desvio Padrão"
      ],
      "execution_count": 0,
      "outputs": [
        {
          "output_type": "execute_result",
          "data": {
            "text/plain": [
              "1.4142135623730951"
            ]
          },
          "metadata": {
            "tags": []
          },
          "execution_count": 1
        }
      ]
    },
    {
      "cell_type": "markdown",
      "metadata": {
        "id": "jl--L_Nig1bW",
        "colab_type": "text"
      },
      "source": [
        "### Copiando Vetores"
      ]
    },
    {
      "cell_type": "code",
      "metadata": {
        "id": "y6gWTR3vg1bX",
        "colab_type": "code",
        "colab": {}
      },
      "source": [
        "import numpy as np\n",
        "\n",
        "vetor = np.array([1, 2, 3, 4, 5])\n",
        "\n",
        "copia_vetor = np.copy(vetor)\n",
        "print(copia_vetor)\n",
        "\n",
        "copia = vetor.copy()  \n",
        "print(copia)\n",
        "\n",
        "visao = vetor.view()  # Cria uma visão (view) do vetor [representação virutal em memória]\n",
        "print(visao)"
      ],
      "execution_count": 0,
      "outputs": []
    },
    {
      "cell_type": "markdown",
      "metadata": {
        "id": "Ay_riIVXg1bZ",
        "colab_type": "text"
      },
      "source": [
        "### Ordenando Vetores"
      ]
    },
    {
      "cell_type": "code",
      "metadata": {
        "id": "87lwoedCg1ba",
        "colab_type": "code",
        "colab": {}
      },
      "source": [
        "import numpy as np\n",
        "\n",
        "vetor = np.array([9, 8, 7, 6, 5, 4, 3, 2, 1])\n",
        "vetor.sort()\n",
        "vetor"
      ],
      "execution_count": 0,
      "outputs": []
    },
    {
      "cell_type": "markdown",
      "metadata": {
        "id": "nAXWfTf4g1bc",
        "colab_type": "text"
      },
      "source": [
        "### Subconjunto, Fatiamento e Indexação"
      ]
    },
    {
      "cell_type": "code",
      "metadata": {
        "id": "0Fy3apPng1bd",
        "colab_type": "code",
        "colab": {}
      },
      "source": [
        "import numpy as np\n",
        "\n",
        "vetor = np.array([1, 2, 3, 4, 5])\n",
        "matriz = np.array([(1, 2, 3), (4, 5, 6), (7, 8, 9)])\n",
        "\n",
        "\n",
        "print(vetor[2])        # vetor[i] = Pega o elemento do vetor na posição (i)\n",
        "print(matriz[1, 2])    # vetor[linha, coluna] = Pega um elemento em uma matriz\n",
        "\n",
        "\n",
        "print(vetor[0:3])      # vetor[inicio:quantidade] = Retorna 3 elementos contados à partir da posição de início ([0] \n",
        "print(matriz[1:2])     # Seleciona todos elementos da primeira linha até a terceira coluna\n",
        "print(matriz[0:3, 1])  # matriz[inicio:quantidade, coluna] Seleciona 3 elementos da segunda coluna [1], à partir da primeira linha [0]\n",
        "\n",
        "print(matriz[:1])      # Seleciona todos os itens da primeira linha\n",
        "print(matriz[:2])      # Seleciona todos os itens da primeira linha e segunda linha\n",
        "\n",
        "print(vetor[ : :-1])   # Seleciona todos os elementos de trás pra frente (invertido)\n",
        "\n",
        "# Indexação Lógica\n",
        "print(vetor[vetor <= 3]) # Seleciona todos os elementos dos índices menores iguais a 3\n",
        "print(vetor[1 + 3])      # Calcula dinamicamente a posição do vetor\n",
        "\n",
        "\n",
        "print(matriz[[1, 0, 1, 0]]) # Retorna uma matriz com as linhas 1 e 0 repetidas"
      ],
      "execution_count": 0,
      "outputs": []
    },
    {
      "cell_type": "markdown",
      "metadata": {
        "id": "fckw3B9Bg1bf",
        "colab_type": "text"
      },
      "source": [
        "## Entrada/Saída (I/O)"
      ]
    },
    {
      "cell_type": "code",
      "metadata": {
        "id": "WThUXWtlg1bg",
        "colab_type": "code",
        "colab": {}
      },
      "source": [
        "import numpy as np\n",
        "from io import StringIO\n",
        "\n",
        "data = u\"1, 2, 3\\n4, 5, 6\"\n",
        "vetor = np.genfromtxt(StringIO(data), delimiter=\",\") # Converte dados para vetor\n",
        "np.savetxt(\"nome_arquivo.txt\", vetor, delimiter=\" \") # Salva o vetor como arquivo"
      ],
      "execution_count": 0,
      "outputs": []
    },
    {
      "cell_type": "markdown",
      "metadata": {
        "id": "HVqiK8TSg1bi",
        "colab_type": "text"
      },
      "source": [
        "```python\n",
        "# Exemplo - Carregamento de Arquivos\n",
        "np.genfromtxt(\"nome_arquivo.csv\", delimiter=',')\n",
        "np.loadtxt(\"nome_arquivo.txt\")\n",
        "```"
      ]
    },
    {
      "cell_type": "markdown",
      "metadata": {
        "id": "olibuxedg1bi",
        "colab_type": "text"
      },
      "source": [
        "# Exercícios"
      ]
    },
    {
      "cell_type": "markdown",
      "metadata": {
        "id": "ei0rUzryg1bj",
        "colab_type": "text"
      },
      "source": [
        "1. Importe o pacote numpy com o nome np."
      ]
    },
    {
      "cell_type": "code",
      "metadata": {
        "id": "PkI7jQ1Eg1bj",
        "colab_type": "code",
        "colab": {}
      },
      "source": [
        "import numpy as np\n"
      ],
      "execution_count": 0,
      "outputs": []
    },
    {
      "cell_type": "markdown",
      "metadata": {
        "id": "8tN7WrYmg1bm",
        "colab_type": "text"
      },
      "source": [
        "2. Crie o seguinte vetor unidimensional (1D):\n",
        "\n",
        "| 0 | 1 | 2 | 3 | 4 | 5 | 6 | 7 | 8 | 9 |\n",
        "|:-:|:-:|:-:|:-:|:-:|:-:|:-:|:-:|:-:|:-:|"
      ]
    },
    {
      "cell_type": "code",
      "metadata": {
        "id": "BJ4cWLakg1bn",
        "colab_type": "code",
        "colab": {
          "base_uri": "https://localhost:8080/",
          "height": 34
        },
        "outputId": "9fe380ad-7e03-4b7a-919e-3065fa7d82f3"
      },
      "source": [
        "vetor = np.arange(10)\n",
        "vetor"
      ],
      "execution_count": 79,
      "outputs": [
        {
          "output_type": "execute_result",
          "data": {
            "text/plain": [
              "array([0, 1, 2, 3, 4, 5, 6, 7, 8, 9])"
            ]
          },
          "metadata": {
            "tags": []
          },
          "execution_count": 79
        }
      ]
    },
    {
      "cell_type": "markdown",
      "metadata": {
        "id": "JA5tk6W7g1bq",
        "colab_type": "text"
      },
      "source": [
        "3. Qual é o comprimento `len` do vetor?"
      ]
    },
    {
      "cell_type": "code",
      "metadata": {
        "id": "qWk_yDhKg1bq",
        "colab_type": "code",
        "colab": {
          "base_uri": "https://localhost:8080/",
          "height": 34
        },
        "outputId": "7c29a237-6cb1-40e0-8753-f84112058085"
      },
      "source": [
        "len(vetor)"
      ],
      "execution_count": 80,
      "outputs": [
        {
          "output_type": "execute_result",
          "data": {
            "text/plain": [
              "10"
            ]
          },
          "metadata": {
            "tags": []
          },
          "execution_count": 80
        }
      ]
    },
    {
      "cell_type": "markdown",
      "metadata": {
        "id": "i_Go67vgg1bt",
        "colab_type": "text"
      },
      "source": [
        "4. Quantas dimensões `ndim` o vetor possui?"
      ]
    },
    {
      "cell_type": "code",
      "metadata": {
        "id": "K6qGA_cMg1bt",
        "colab_type": "code",
        "colab": {
          "base_uri": "https://localhost:8080/",
          "height": 34
        },
        "outputId": "9b61825e-dcc0-45d6-e8df-17ae28c06684"
      },
      "source": [
        "np.ndim(vetor)"
      ],
      "execution_count": 81,
      "outputs": [
        {
          "output_type": "execute_result",
          "data": {
            "text/plain": [
              "1"
            ]
          },
          "metadata": {
            "tags": []
          },
          "execution_count": 81
        }
      ]
    },
    {
      "cell_type": "markdown",
      "metadata": {
        "id": "DyRshBBlg1bw",
        "colab_type": "text"
      },
      "source": [
        "5. O que a função `shape` retorna?"
      ]
    },
    {
      "cell_type": "code",
      "metadata": {
        "id": "YMkgnjT2g1bw",
        "colab_type": "code",
        "colab": {
          "base_uri": "https://localhost:8080/",
          "height": 34
        },
        "outputId": "280d514e-dedd-4aa7-a70e-387b48233ab3"
      },
      "source": [
        "np.shape(vetor)"
      ],
      "execution_count": 82,
      "outputs": [
        {
          "output_type": "execute_result",
          "data": {
            "text/plain": [
              "(10,)"
            ]
          },
          "metadata": {
            "tags": []
          },
          "execution_count": 82
        }
      ]
    },
    {
      "cell_type": "markdown",
      "metadata": {
        "id": "RmOyzBHjg1bz",
        "colab_type": "text"
      },
      "source": [
        "**Resposta**:"
      ]
    },
    {
      "cell_type": "markdown",
      "metadata": {
        "id": "QsIf_DG2g1bz",
        "colab_type": "text"
      },
      "source": [
        "6. Crie a variável *pares* e extraia todos os números pares do vetor para ela:"
      ]
    },
    {
      "cell_type": "code",
      "metadata": {
        "id": "98eZnKRDg1b0",
        "colab_type": "code",
        "colab": {}
      },
      "source": [
        ""
      ],
      "execution_count": 0,
      "outputs": []
    },
    {
      "cell_type": "markdown",
      "metadata": {
        "id": "P8VscQUPg1b2",
        "colab_type": "text"
      },
      "source": [
        "7. Substitua todos os elementos ímpares do vetor por -1, em seguida, ordene os resultados:"
      ]
    },
    {
      "cell_type": "code",
      "metadata": {
        "id": "e5PzgWnSg1b2",
        "colab_type": "code",
        "colab": {
          "base_uri": "https://localhost:8080/",
          "height": 34
        },
        "outputId": "919724c8-9755-4df5-aadf-defa61d31008"
      },
      "source": [
        "v=np.arange(10)\n",
        "v[1] = -1\n",
        "v[3] = -1\n",
        "v[5] = -1\n",
        "v[7] = -1\n",
        "v[9] = -1\n",
        "v.sort()\n",
        "v\n"
      ],
      "execution_count": 114,
      "outputs": [
        {
          "output_type": "execute_result",
          "data": {
            "text/plain": [
              "array([-1, -1, -1, -1, -1,  0,  2,  4,  6,  8])"
            ]
          },
          "metadata": {
            "tags": []
          },
          "execution_count": 114
        }
      ]
    },
    {
      "cell_type": "markdown",
      "metadata": {
        "id": "Fc2oaVkvg1b4",
        "colab_type": "text"
      },
      "source": [
        "8. Converta o vetor unidimensional (1D) abaixo para uma matriz (2D) com 4 linhas. **Dica:** `reshape`."
      ]
    },
    {
      "cell_type": "code",
      "metadata": {
        "id": "PVO6xJzFg1b5",
        "colab_type": "code",
        "colab": {
          "base_uri": "https://localhost:8080/",
          "height": 85
        },
        "outputId": "fd4ffe6d-d2bf-4a6f-867e-7c8cbac7d6c5"
      },
      "source": [
        "vetor = np.arange(8)\n",
        "matriz_2d = vetor.reshape(4, 2)\n",
        "matriz_2d"
      ],
      "execution_count": 77,
      "outputs": [
        {
          "output_type": "execute_result",
          "data": {
            "text/plain": [
              "array([[0, 1],\n",
              "       [2, 3],\n",
              "       [4, 5],\n",
              "       [6, 7]])"
            ]
          },
          "metadata": {
            "tags": []
          },
          "execution_count": 77
        }
      ]
    },
    {
      "cell_type": "markdown",
      "metadata": {
        "id": "ufmW-yjBg1b7",
        "colab_type": "text"
      },
      "source": [
        "9. Obtenha os itens em comum, ou seja, a intersecção dos vetores `a` e `b` abaixo:\n",
        "**Saída**: [2, 4, 6]"
      ]
    },
    {
      "cell_type": "code",
      "metadata": {
        "id": "9oligSGCg1b7",
        "colab_type": "code",
        "colab": {}
      },
      "source": [
        "vetor_a = [0,2,9,4,6,7]\n",
        "vetor_b = [8,2,4,6]\n",
        "list(set(vetor_a) & set(vetor_b))"
      ],
      "execution_count": 0,
      "outputs": []
    },
    {
      "cell_type": "markdown",
      "metadata": {
        "id": "KwJpshQog1b_",
        "colab_type": "text"
      },
      "source": [
        "10. Retorne os valores únicos do vetor `a` que não estão no vetor `b` (diferença).\n",
        "**Saída**: [1, 3]"
      ]
    },
    {
      "cell_type": "code",
      "metadata": {
        "id": "xRyfsbXlg1cB",
        "colab_type": "code",
        "colab": {
          "base_uri": "https://localhost:8080/",
          "height": 34
        },
        "outputId": "7364cfa3-62cd-4c61-d473-09361d566d80"
      },
      "source": [
        "vetor_a = [1,2,3,]\n",
        "vetor_b = [0,2,4,6,8]\n",
        "list(set(vetor_a) - set(vetor_b))"
      ],
      "execution_count": 85,
      "outputs": [
        {
          "output_type": "execute_result",
          "data": {
            "text/plain": [
              "[1, 3]"
            ]
          },
          "metadata": {
            "tags": []
          },
          "execution_count": 85
        }
      ]
    },
    {
      "cell_type": "markdown",
      "metadata": {
        "id": "UbXJ6aQYg1cE",
        "colab_type": "text"
      },
      "source": [
        "11. Retorne um vetor com as posições (índices) onde os elementos do vetor `a` sãos iguais aos elementos do vetor `b`. **Dica**: `where`.\n",
        "**Saída**: [2, 3, 5]"
      ]
    },
    {
      "cell_type": "code",
      "metadata": {
        "id": "-p9SFme4g1cE",
        "colab_type": "code",
        "colab": {
          "base_uri": "https://localhost:8080/",
          "height": 34
        },
        "outputId": "1271e971-6421-455c-cbf4-cd43391d3d7f"
      },
      "source": [
        "#nao entendi nada vei"
      ],
      "execution_count": 84,
      "outputs": [
        {
          "output_type": "execute_result",
          "data": {
            "text/plain": [
              "[2, 4, 6]"
            ]
          },
          "metadata": {
            "tags": []
          },
          "execution_count": 84
        }
      ]
    },
    {
      "cell_type": "markdown",
      "metadata": {
        "id": "gNZ4_lB0g1cG",
        "colab_type": "text"
      },
      "source": [
        "12. Obtenha todos os itens entre 5 e 15 do vetor `a = [0, 1, 2, 3, . . ., 20]`."
      ]
    },
    {
      "cell_type": "code",
      "metadata": {
        "id": "LPS94qNWg1cH",
        "colab_type": "code",
        "colab": {
          "base_uri": "https://localhost:8080/",
          "height": 34
        },
        "outputId": "67920940-18fd-4fb7-aa39-37392d0220ca"
      },
      "source": [
        "a = np.arange(15)\n",
        "a[6:14]"
      ],
      "execution_count": 90,
      "outputs": [
        {
          "output_type": "execute_result",
          "data": {
            "text/plain": [
              "array([ 6,  7,  8,  9, 10, 11, 12, 13])"
            ]
          },
          "metadata": {
            "tags": []
          },
          "execution_count": 90
        }
      ]
    },
    {
      "cell_type": "markdown",
      "metadata": {
        "id": "a3bPFbbXg1cJ",
        "colab_type": "text"
      },
      "source": [
        "13. Crie e imprima um vetor com 5 números aleatórios, sem seguida, obtenha os valores máximo e mínimo dele e mostre na tela."
      ]
    },
    {
      "cell_type": "code",
      "metadata": {
        "id": "p3GJCVZIg1cJ",
        "colab_type": "code",
        "colab": {
          "base_uri": "https://localhost:8080/",
          "height": 68
        },
        "outputId": "bd80b9c3-8208-417c-ad82-48f46fc8f06b"
      },
      "source": [
        "aleatorio = np.random.rand(5)\n",
        "print(aleatorio)\n",
        "print(aleatorio.min())\n",
        "print(aleatorio.max())"
      ],
      "execution_count": 93,
      "outputs": [
        {
          "output_type": "stream",
          "text": [
            "[0.38356305 0.16028995 0.13015745 0.7776301  0.12104323]\n",
            "0.12104322634269893\n",
            "0.7776300976375955\n"
          ],
          "name": "stdout"
        }
      ]
    },
    {
      "cell_type": "markdown",
      "metadata": {
        "id": "FdFTxDmgg1cL",
        "colab_type": "text"
      },
      "source": [
        "14. Crie a seguinte matriz:\n",
        "\n",
        "|   |   |   |\n",
        "|:-:|:-:|:-:|\n",
        "| 7 | 8 | 9 |\n",
        "| 4 | 5 | 6 |\n",
        "| 1 | 2 | 3 |"
      ]
    },
    {
      "cell_type": "code",
      "metadata": {
        "id": "cl2sR_dOg1cL",
        "colab_type": "code",
        "colab": {
          "base_uri": "https://localhost:8080/",
          "height": 68
        },
        "outputId": "3e320738-79a8-41d3-c0fc-64dce0e779d8"
      },
      "source": [
        "seguinte_matriz = np.array([[7, 8, 9], [4, 5, 6], [1,2,3]]) \n",
        "seguinte_matriz"
      ],
      "execution_count": 94,
      "outputs": [
        {
          "output_type": "execute_result",
          "data": {
            "text/plain": [
              "array([[7, 8, 9],\n",
              "       [4, 5, 6],\n",
              "       [1, 2, 3]])"
            ]
          },
          "metadata": {
            "tags": []
          },
          "execution_count": 94
        }
      ]
    },
    {
      "cell_type": "markdown",
      "metadata": {
        "id": "xsmwtyoTg1cO",
        "colab_type": "text"
      },
      "source": [
        "15. Troque de lugar a primeira coluna com a útllima coluna da matriz."
      ]
    },
    {
      "cell_type": "code",
      "metadata": {
        "id": "gFXnrOGkg1cP",
        "colab_type": "code",
        "colab": {
          "base_uri": "https://localhost:8080/",
          "height": 51
        },
        "outputId": "666eb15a-dc83-4847-c7e7-a480a3717099"
      },
      "source": [
        "seguinte_matriz = np.array([[7, 8, 9], [4, 5, 6], [1,2,3]]) \n",
        "\n",
        "coluna1=(seguinte_matriz[0:3, 0])\n",
        "coluna2=(seguinte_matriz[0:3,2])\n",
        "\n",
        "print(coluna1)\n",
        "print(coluna2)"
      ],
      "execution_count": 95,
      "outputs": [
        {
          "output_type": "stream",
          "text": [
            "[7 4 1]\n",
            "[9 6 3]\n"
          ],
          "name": "stdout"
        }
      ]
    },
    {
      "cell_type": "markdown",
      "metadata": {
        "id": "W03yk81tg1cQ",
        "colab_type": "text"
      },
      "source": [
        "16. Troque de lugar a primeira linha com a útllima linha da matriz."
      ]
    },
    {
      "cell_type": "code",
      "metadata": {
        "id": "FutAzzK3g1cR",
        "colab_type": "code",
        "colab": {
          "base_uri": "https://localhost:8080/",
          "height": 68
        },
        "outputId": "68847dcb-efc8-4a46-da74-9ac52644f732"
      },
      "source": [
        "seguinte_matriz = np.array([[7, 8, 9], [4, 5, 6], [1,2,3]]) \n",
        "seguinte_matriz[ : :-1]"
      ],
      "execution_count": 97,
      "outputs": [
        {
          "output_type": "execute_result",
          "data": {
            "text/plain": [
              "array([[1, 2, 3],\n",
              "       [4, 5, 6],\n",
              "       [7, 8, 9]])"
            ]
          },
          "metadata": {
            "tags": []
          },
          "execution_count": 97
        }
      ]
    },
    {
      "cell_type": "markdown",
      "metadata": {
        "id": "J6x9lZwWg1cU",
        "colab_type": "text"
      },
      "source": [
        "17. Crie uma matriz  7 × 5 preenchida com números decimais aleatórios entre 1 e 5."
      ]
    },
    {
      "cell_type": "code",
      "metadata": {
        "id": "m1ivHlHcg1cU",
        "colab_type": "code",
        "colab": {
          "base_uri": "https://localhost:8080/",
          "height": 136
        },
        "outputId": "c68f830e-21bd-46b6-cd0b-c3ae1856a6fe"
      },
      "source": [
        "matriz7x5 = np.random.rand(7,5)\n",
        "matriz7x5"
      ],
      "execution_count": 98,
      "outputs": [
        {
          "output_type": "execute_result",
          "data": {
            "text/plain": [
              "array([[0.83441978, 0.63622243, 0.29903282, 0.44299136, 0.19767056],\n",
              "       [0.83212575, 0.97421054, 0.22442166, 0.54677702, 0.85112085],\n",
              "       [0.94432311, 0.23614342, 0.17650208, 0.42057174, 0.98546102],\n",
              "       [0.95881874, 0.86016672, 0.98724426, 0.7809708 , 0.74342413],\n",
              "       [0.28408622, 0.95443159, 0.23065254, 0.32404273, 0.22834679],\n",
              "       [0.91434872, 0.67397672, 0.05426269, 0.09142154, 0.59457409],\n",
              "       [0.22249942, 0.02261632, 0.7206313 , 0.52563345, 0.08719199]])"
            ]
          },
          "metadata": {
            "tags": []
          },
          "execution_count": 98
        }
      ]
    },
    {
      "cell_type": "markdown",
      "metadata": {
        "id": "lqw0pLtFg1cX",
        "colab_type": "text"
      },
      "source": [
        "18. Qual é o comprimento `len` da matriz?"
      ]
    },
    {
      "cell_type": "code",
      "metadata": {
        "id": "nCXlr4kBg1cX",
        "colab_type": "code",
        "colab": {
          "base_uri": "https://localhost:8080/",
          "height": 34
        },
        "outputId": "710ccaf7-7d15-4ce7-a0f9-394d253b3695"
      },
      "source": [
        "matriz7x5 = np.random.rand(7,5)\n",
        "len(matriz7x5)"
      ],
      "execution_count": 104,
      "outputs": [
        {
          "output_type": "execute_result",
          "data": {
            "text/plain": [
              "7"
            ]
          },
          "metadata": {
            "tags": []
          },
          "execution_count": 104
        }
      ]
    },
    {
      "cell_type": "markdown",
      "metadata": {
        "id": "DJ57RWDjg1ca",
        "colab_type": "text"
      },
      "source": [
        "19. Quantas dimensões `ndim` a matriz possui?"
      ]
    },
    {
      "cell_type": "code",
      "metadata": {
        "id": "f4l4AL64g1ca",
        "colab_type": "code",
        "colab": {
          "base_uri": "https://localhost:8080/",
          "height": 34
        },
        "outputId": "f7abf49f-e6c9-44ed-edb1-72e1892cd395"
      },
      "source": [
        "matriz7x5 = np.random.rand(7,5)\n",
        "matriz7x5.ndim\n"
      ],
      "execution_count": 107,
      "outputs": [
        {
          "output_type": "execute_result",
          "data": {
            "text/plain": [
              "2"
            ]
          },
          "metadata": {
            "tags": []
          },
          "execution_count": 107
        }
      ]
    },
    {
      "cell_type": "markdown",
      "metadata": {
        "id": "0jYCnSDag1cd",
        "colab_type": "text"
      },
      "source": [
        "20. O que a função `shape` retorna?"
      ]
    },
    {
      "cell_type": "code",
      "metadata": {
        "id": "9YJ5WLnRg1cd",
        "colab_type": "code",
        "colab": {
          "base_uri": "https://localhost:8080/",
          "height": 34
        },
        "outputId": "a8d29b96-bdbd-443c-aeb6-b2894708a141"
      },
      "source": [
        "matriz7x5 = np.random.rand(7,5)\n",
        "matriz7x5.shape"
      ],
      "execution_count": 108,
      "outputs": [
        {
          "output_type": "execute_result",
          "data": {
            "text/plain": [
              "(7, 5)"
            ]
          },
          "metadata": {
            "tags": []
          },
          "execution_count": 108
        }
      ]
    },
    {
      "cell_type": "markdown",
      "metadata": {
        "id": "rROqXza4g1cf",
        "colab_type": "text"
      },
      "source": [
        "**Resposta**:"
      ]
    },
    {
      "cell_type": "markdown",
      "metadata": {
        "id": "elJVjZxZg1cf",
        "colab_type": "text"
      },
      "source": [
        "# EXERCÍCIO: Análise de Dados dos Jogadores da FIFA ⚽"
      ]
    },
    {
      "cell_type": "markdown",
      "metadata": {
        "id": "UIok4oR0g1cg",
        "colab_type": "text"
      },
      "source": [
        "Neste exercício, iremos usar a biblioteca NumPy para fazer uma análise de dados de jogares de futebol da FIFA disponíveis em [`data/fifa.csv`](data/fifa.csv). O conjunto de dados (dataset) foi adaptado da versão original disponibilizada nas plataformas: [Kaggle](https://www.kaggle.com/karangadiya/fifa19/data) e [GitHub](https://github.com/amanthedorkknight/fifa18-all-player-statistics).\n",
        "\n",
        "## Dicionário de Dados\n",
        "\n",
        "| Coluna        | Descrição                                        |\n",
        "|:--------------|:-------------------------------------------------|\n",
        "| id            | Identificador único do jogador                   |\n",
        "| nome          | Nome do jogador                                  |\n",
        "| foto          | URL da fotografia do jogador.                    |\n",
        "| nacionalidade | País do jogador.                                 |\n",
        "| avaliacao     | Avaliação geral do jogador.                      |\n",
        "| potencial     | Indicador da classificação potencial do jogador. |\n",
        "| time          | Nome do time do jogador.                         |\n",
        "| pe_preferido  | Direito (Destro), Esquerdo (Canhoto).            |\n",
        "| reputacao     | Reputação Internacional do jogador.              |\n",
        "| altura_cm     | Altura do jogador em centímetros (cm).           |\n",
        "| peso_kg       | Peso do jogador em kilos (kg).                   |\n",
        "| posicao       | Posição do jogador no time.                      |\n",
        "| numero_camisa | Número da camisa do jogador.                     |"
      ]
    },
    {
      "cell_type": "markdown",
      "metadata": {
        "id": "gmfLtSIKg1cg",
        "colab_type": "text"
      },
      "source": [
        "1. Importe o pacote numpy com o nome np."
      ]
    },
    {
      "cell_type": "code",
      "metadata": {
        "id": "34ZDMwP8g1cg",
        "colab_type": "code",
        "colab": {}
      },
      "source": [
        "import numpy as np"
      ],
      "execution_count": 0,
      "outputs": []
    },
    {
      "cell_type": "markdown",
      "metadata": {
        "id": "Am8Bx5Vug1ck",
        "colab_type": "text"
      },
      "source": [
        "2. Carregue o conjunto de dados da Fifa disponível na pasta (`data/fifa.csv`), ignorando a coluna `foto`, para uma matriz em uma variavel chamada `dados`. **Dicas:**\n",
        "    - Pesquise pela função `genfromtxt`; \n",
        "    - Não esqueça de especificar a codificação (encoding) como UTF-8;\n",
        "    - Ignore o cabeçalho dos dados usando o parâmetro `skip_header=True`"
      ]
    },
    {
      "cell_type": "code",
      "metadata": {
        "id": "hSCJz7leg1ck",
        "colab_type": "code",
        "outputId": "b439112b-c2cf-4462-b3ce-8b5aefe1922e",
        "colab": {
          "base_uri": "https://localhost:8080/",
          "height": 187
        }
      },
      "source": [
        "dados = np.genfromtxt('fifa.csv',delimiter=',',encoding='utf-8', dtype=object, skip_header=True,usecols=[0, 1, 2, 4, 5, 6, 7, 8, 9, 10, 11])\n",
        "dados"
      ],
      "execution_count": 22,
      "outputs": [
        {
          "output_type": "execute_result",
          "data": {
            "text/plain": [
              "array([[b'158023', b'L. Messi', b'31', ..., b'5', b'170', b'72.121'],\n",
              "       [b'20801', b'Cristiano Ronaldo', b'33', ..., b'5', b'188',\n",
              "        b'83.007'],\n",
              "       [b'190871', b'Neymar Jr', b'26', ..., b'5', b'175', b'68.039'],\n",
              "       ...,\n",
              "       [b'241638', b'B. Worman', b'16', ..., b'1', b'173', b'67.132'],\n",
              "       [b'246268', b'D. Walker-Rice', b'17', ..., b'1', b'152',\n",
              "        b'69.853'],\n",
              "       [b'246269', b'G. Nugent', b'16', ..., b'1', b'152', b'79.832']],\n",
              "      dtype=object)"
            ]
          },
          "metadata": {
            "tags": []
          },
          "execution_count": 22
        }
      ]
    },
    {
      "cell_type": "markdown",
      "metadata": {
        "id": "Cmbcvktpg1cn",
        "colab_type": "text"
      },
      "source": [
        "3. Quantas linhas foram lidas do arquivo?"
      ]
    },
    {
      "cell_type": "code",
      "metadata": {
        "id": "Oninvl5Lg1cn",
        "colab_type": "code",
        "colab": {
          "base_uri": "https://localhost:8080/",
          "height": 34
        },
        "outputId": "0e406d12-50bc-4c47-8a59-d9e3e6686f86"
      },
      "source": [
        "len(dados)"
      ],
      "execution_count": 16,
      "outputs": [
        {
          "output_type": "execute_result",
          "data": {
            "text/plain": [
              "18207"
            ]
          },
          "metadata": {
            "tags": []
          },
          "execution_count": 16
        }
      ]
    },
    {
      "cell_type": "markdown",
      "metadata": {
        "id": "zzJ1VAQyg1cp",
        "colab_type": "text"
      },
      "source": [
        "4. Quantas dimensões sua variável `dados` possui?"
      ]
    },
    {
      "cell_type": "code",
      "metadata": {
        "id": "gedhvxcng1cq",
        "colab_type": "code",
        "colab": {
          "base_uri": "https://localhost:8080/",
          "height": 34
        },
        "outputId": "cb098684-9763-43f4-da7f-5d5ffe23d771"
      },
      "source": [
        "np.ndim(dados)"
      ],
      "execution_count": 17,
      "outputs": [
        {
          "output_type": "execute_result",
          "data": {
            "text/plain": [
              "2"
            ]
          },
          "metadata": {
            "tags": []
          },
          "execution_count": 17
        }
      ]
    },
    {
      "cell_type": "markdown",
      "metadata": {
        "id": "jKfQJ8Lwg1cu",
        "colab_type": "text"
      },
      "source": [
        "5. O que a função shape retorna?"
      ]
    },
    {
      "cell_type": "code",
      "metadata": {
        "id": "6BL1CAchg1cv",
        "colab_type": "code",
        "colab": {
          "base_uri": "https://localhost:8080/",
          "height": 34
        },
        "outputId": "579de4ee-990b-474e-a08b-3870f89795ee"
      },
      "source": [
        "np.shape(dados)"
      ],
      "execution_count": 18,
      "outputs": [
        {
          "output_type": "execute_result",
          "data": {
            "text/plain": [
              "(18207, 14)"
            ]
          },
          "metadata": {
            "tags": []
          },
          "execution_count": 18
        }
      ]
    },
    {
      "cell_type": "markdown",
      "metadata": {
        "id": "fxfqyw4hg1cw",
        "colab_type": "text"
      },
      "source": [
        "**Resposta**:"
      ]
    },
    {
      "cell_type": "markdown",
      "metadata": {
        "id": "Xh-LOSpSg1cx",
        "colab_type": "text"
      },
      "source": [
        "6. Mostre o dado que está na 3ª linha da 4ª coluna?"
      ]
    },
    {
      "cell_type": "code",
      "metadata": {
        "id": "tBngCgv1g1cx",
        "colab_type": "code",
        "colab": {
          "base_uri": "https://localhost:8080/",
          "height": 34
        },
        "outputId": "32a27cc5-95d4-4094-de17-cf7fed4d35c9"
      },
      "source": [
        "dados[2, 3]"
      ],
      "execution_count": 23,
      "outputs": [
        {
          "output_type": "execute_result",
          "data": {
            "text/plain": [
              "b'Brasil'"
            ]
          },
          "metadata": {
            "tags": []
          },
          "execution_count": 23
        }
      ]
    },
    {
      "cell_type": "markdown",
      "metadata": {
        "id": "XOz4GxFzg1c0",
        "colab_type": "text"
      },
      "source": [
        "7. Exiba os dados da primeira linha do dataset."
      ]
    },
    {
      "cell_type": "code",
      "metadata": {
        "id": "W0GVl2x-g1c1",
        "colab_type": "code",
        "colab": {
          "base_uri": "https://localhost:8080/",
          "height": 68
        },
        "outputId": "c2837870-a405-46fb-d67d-09aabc36edbe"
      },
      "source": [
        "dados[0]"
      ],
      "execution_count": 24,
      "outputs": [
        {
          "output_type": "execute_result",
          "data": {
            "text/plain": [
              "array([b'158023', b'L. Messi', b'31', b'Argentina', b'94', b'94',\n",
              "       b'FC Barcelona', b'Esquerdo', b'5', b'170', b'72.121'],\n",
              "      dtype=object)"
            ]
          },
          "metadata": {
            "tags": []
          },
          "execution_count": 24
        }
      ]
    },
    {
      "cell_type": "markdown",
      "metadata": {
        "id": "zga63JP2g1c4",
        "colab_type": "text"
      },
      "source": [
        "8. Mostre as 5 primeiras linhas do conjunto de dados."
      ]
    },
    {
      "cell_type": "code",
      "metadata": {
        "id": "P-v2_L9Qg1c4",
        "colab_type": "code",
        "colab": {
          "base_uri": "https://localhost:8080/",
          "height": 204
        },
        "outputId": "1032eb23-b167-4f41-d75e-688a41625908"
      },
      "source": [
        "dados[:5]"
      ],
      "execution_count": 25,
      "outputs": [
        {
          "output_type": "execute_result",
          "data": {
            "text/plain": [
              "array([[b'158023', b'L. Messi', b'31', b'Argentina', b'94', b'94',\n",
              "        b'FC Barcelona', b'Esquerdo', b'5', b'170', b'72.121'],\n",
              "       [b'20801', b'Cristiano Ronaldo', b'33', b'Portugal', b'94', b'94',\n",
              "        b'Juventus', b'Direito', b'5', b'188', b'83.007'],\n",
              "       [b'190871', b'Neymar Jr', b'26', b'Brasil', b'92', b'93',\n",
              "        b'Paris Saint-Germain', b'Direito', b'5', b'175', b'68.039'],\n",
              "       [b'193080', b'De Gea', b'27', b'Espanha', b'91', b'93',\n",
              "        b'Manchester United', b'Direito', b'4', b'193', b'76.204'],\n",
              "       [b'192985', b'K. De Bruyne', b'27', b'B\\xe9lgica', b'91', b'92',\n",
              "        b'Manchester City', b'Direito', b'4', b'155', b'69.853']],\n",
              "      dtype=object)"
            ]
          },
          "metadata": {
            "tags": []
          },
          "execution_count": 25
        }
      ]
    },
    {
      "cell_type": "markdown",
      "metadata": {
        "id": "d_aeexUTg1c6",
        "colab_type": "text"
      },
      "source": [
        "9. Selecione todas as linhas da coluna `nome` (segunda coluna). **Dica:** use o operador `:`"
      ]
    },
    {
      "cell_type": "code",
      "metadata": {
        "id": "BifCPKP2g1c6",
        "colab_type": "code",
        "colab": {
          "base_uri": "https://localhost:8080/",
          "height": 51
        },
        "outputId": "65c7d69c-c783-4597-cc0f-8b7c7cbd39eb"
      },
      "source": [
        "dados[:, 1]"
      ],
      "execution_count": 26,
      "outputs": [
        {
          "output_type": "execute_result",
          "data": {
            "text/plain": [
              "array([b'L. Messi', b'Cristiano Ronaldo', b'Neymar Jr', ..., b'B. Worman',\n",
              "       b'D. Walker-Rice', b'G. Nugent'], dtype=object)"
            ]
          },
          "metadata": {
            "tags": []
          },
          "execution_count": 26
        }
      ]
    },
    {
      "cell_type": "markdown",
      "metadata": {
        "id": "_-2vO-Lag1c8",
        "colab_type": "text"
      },
      "source": [
        "10. Inicialize um vetor de inteiros NumPy chamado: **idades**; com todas as linhas da coluna `idade` (3ª coluna)."
      ]
    },
    {
      "cell_type": "code",
      "metadata": {
        "id": "1RvMpsp8g1c8",
        "colab_type": "code",
        "colab": {
          "base_uri": "https://localhost:8080/",
          "height": 34
        },
        "outputId": "643b1953-74a1-4bc4-f5b7-d1819404a64b"
      },
      "source": [
        "idades = np.array(dados[:,2], dtype=int)\n",
        "idades\n"
      ],
      "execution_count": 28,
      "outputs": [
        {
          "output_type": "execute_result",
          "data": {
            "text/plain": [
              "array([31, 33, 26, ..., 16, 17, 16])"
            ]
          },
          "metadata": {
            "tags": []
          },
          "execution_count": 28
        }
      ]
    },
    {
      "cell_type": "markdown",
      "metadata": {
        "id": "PIyjhnDRg1c_",
        "colab_type": "text"
      },
      "source": [
        "11. Qual é a média de idades dos jogadores?"
      ]
    },
    {
      "cell_type": "code",
      "metadata": {
        "id": "IKdHe3qIg1dA",
        "colab_type": "code",
        "colab": {
          "base_uri": "https://localhost:8080/",
          "height": 34
        },
        "outputId": "8f2b910c-d21c-4244-dfb7-67e29a8de270"
      },
      "source": [
        "idades.mean()"
      ],
      "execution_count": 30,
      "outputs": [
        {
          "output_type": "execute_result",
          "data": {
            "text/plain": [
              "25.122205745043114"
            ]
          },
          "metadata": {
            "tags": []
          },
          "execution_count": 30
        }
      ]
    },
    {
      "cell_type": "markdown",
      "metadata": {
        "id": "pXArIRLVg1dC",
        "colab_type": "text"
      },
      "source": [
        "12. Qual é a maior idade do conjunto de dados?"
      ]
    },
    {
      "cell_type": "code",
      "metadata": {
        "id": "5LWfmm0Og1dC",
        "colab_type": "code",
        "colab": {
          "base_uri": "https://localhost:8080/",
          "height": 34
        },
        "outputId": "7402a132-f33e-4cac-d68b-ae76a27f545c"
      },
      "source": [
        "idades.max()"
      ],
      "execution_count": 32,
      "outputs": [
        {
          "output_type": "execute_result",
          "data": {
            "text/plain": [
              "45"
            ]
          },
          "metadata": {
            "tags": []
          },
          "execution_count": 32
        }
      ]
    },
    {
      "cell_type": "markdown",
      "metadata": {
        "id": "OFC17txDg1dG",
        "colab_type": "text"
      },
      "source": [
        "13. Qual é a menor idade do conjunto de dados?"
      ]
    },
    {
      "cell_type": "code",
      "metadata": {
        "id": "lJzmQSHWg1dH",
        "colab_type": "code",
        "colab": {
          "base_uri": "https://localhost:8080/",
          "height": 34
        },
        "outputId": "cafd1484-6f05-4831-dcf4-66c72f9997c4"
      },
      "source": [
        "idades.min()"
      ],
      "execution_count": 33,
      "outputs": [
        {
          "output_type": "execute_result",
          "data": {
            "text/plain": [
              "16"
            ]
          },
          "metadata": {
            "tags": []
          },
          "execution_count": 33
        }
      ]
    },
    {
      "cell_type": "markdown",
      "metadata": {
        "id": "F_r6JR_sg1dJ",
        "colab_type": "text"
      },
      "source": [
        "14. Selecione todos os jogadores que possuem a maior idade deste conjunto de dados. Quantas linhas retornaram? "
      ]
    },
    {
      "cell_type": "code",
      "metadata": {
        "id": "0dkDwubRg1dK",
        "colab_type": "code",
        "colab": {
          "base_uri": "https://localhost:8080/",
          "height": 34
        },
        "outputId": "37e90196-8d7f-426c-cd97-9798abc017be"
      },
      "source": [
        "maior_idade = idades.max()\n",
        "condicao = dados[:,2].astype(int) == maior_idade\n",
        "dados[condicao, :]\n",
        "len(dados[condicao, :])"
      ],
      "execution_count": 38,
      "outputs": [
        {
          "output_type": "execute_result",
          "data": {
            "text/plain": [
              "1"
            ]
          },
          "metadata": {
            "tags": []
          },
          "execution_count": 38
        }
      ]
    },
    {
      "cell_type": "markdown",
      "metadata": {
        "id": "FOQqEhecg1dM",
        "colab_type": "text"
      },
      "source": [
        "15. Selecione todos os jogadores que possuem a menor idade deste conjunto de dados. Quantas linhas retornaram? "
      ]
    },
    {
      "cell_type": "code",
      "metadata": {
        "id": "wxvA80mHg1dN",
        "colab_type": "code",
        "colab": {
          "base_uri": "https://localhost:8080/",
          "height": 34
        },
        "outputId": "3a38e14c-3fef-4ace-a2b1-9b5161845f48"
      },
      "source": [
        "menor_idade = idades.min()\n",
        "condicao = dados[:,2].astype(int) == menor_idade\n",
        "dados[condicao, :]\n",
        "len(dados[condicao, :])"
      ],
      "execution_count": 40,
      "outputs": [
        {
          "output_type": "execute_result",
          "data": {
            "text/plain": [
              "42"
            ]
          },
          "metadata": {
            "tags": []
          },
          "execution_count": 40
        }
      ]
    },
    {
      "cell_type": "markdown",
      "metadata": {
        "id": "bHLQf0oBg1dQ",
        "colab_type": "text"
      },
      "source": [
        "16. Selecione todos os jogadores brasileiros para uma variável chamada dados_brasil. Use `b'Brasil'` para fazer a comparação."
      ]
    },
    {
      "cell_type": "code",
      "metadata": {
        "id": "CdYQZHVyg1dQ",
        "colab_type": "code",
        "colab": {
          "base_uri": "https://localhost:8080/",
          "height": 1000
        },
        "outputId": "8d757293-9531-4a7c-c4b6-c6e324db31e2"
      },
      "source": [
        "condicao = dados[:, 3] == b'Brasil'\n",
        "dados_brasil = dados[condicao,:]\n",
        "dados_brasil"
      ],
      "execution_count": 42,
      "outputs": [
        {
          "output_type": "execute_result",
          "data": {
            "text/plain": [
              "array([[b'190871', b'Neymar Jr', b'26', b'Brasil', b'92', b'93',\n",
              "        b'Paris Saint-Germain', b'Direito', b'5', b'175', b'68.039'],\n",
              "       [b'200145', b'Casemiro', b'26', b'Brasil', b'88', b'90',\n",
              "        b'Real Madrid', b'Direito', b'3', b'185', b'83.915'],\n",
              "       [b'189242', b'Coutinho', b'26', b'Brasil', b'88', b'89',\n",
              "        b'FC Barcelona', b'Direito', b'3', b'173', b'68.039'],\n",
              "       [b'176676', b'Marcelo', b'30', b'Brasil', b'88', b'88',\n",
              "        b'Real Madrid', b'Esquerdo', b'4', b'175', b'79.832'],\n",
              "       [b'164240', b'Thiago Silva', b'33', b'Brasil', b'88', b'88',\n",
              "        b'Paris Saint-Germain', b'Direito', b'4', b'183', b'82.100'],\n",
              "       [b'210257', b'Ederson', b'24', b'Brasil', b'86', b'90',\n",
              "        b'Manchester City', b'Esquerdo', b'2', b'188', b'86.183'],\n",
              "       [b'201942', b'Roberto Firmino', b'26', b'Brasil', b'86', b'87',\n",
              "        b'Liverpool', b'Direito', b'3', b'155', b'76.204'],\n",
              "       [b'191043', b'Alex Sandro', b'27', b'Brasil', b'86', b'86',\n",
              "        b'Juventus', b'Esquerdo', b'3', b'155', b'79.832'],\n",
              "       [b'190483', b'Douglas Costa', b'27', b'Brasil', b'86', b'86',\n",
              "        b'Juventus', b'Esquerdo', b'3', b'173', b'69.853'],\n",
              "       [b'135507', b'Fernandinho', b'33', b'Brasil', b'86', b'86',\n",
              "        b'Manchester City', b'Direito', b'3', b'152', b'67.132'],\n",
              "       [b'212831', b'Alisson', b'25', b'Brasil', b'85', b'90',\n",
              "        b'Liverpool', b'Direito', b'3', b'191', b'91.172'],\n",
              "       [b'187961', b'Paulinho', b'29', b'Brasil', b'85', b'85',\n",
              "        b'Guangzhou Evergrande Taobao FC', b'Direito', b'3', b'183',\n",
              "        b'71.214'],\n",
              "       [b'171919', b'Naldo', b'35', b'Brasil', b'85', b'85',\n",
              "        b'FC Schalke 04', b'Direito', b'3', b'198', b'91.172'],\n",
              "       [b'168609', b'Miranda', b'33', b'Brasil', b'85', b'85', b'Inter',\n",
              "        b'Direito', b'3', b'185', b'78.018'],\n",
              "       [b'164169', b'Filipe Lu\\xeds', b'32', b'Brasil', b'85', b'85',\n",
              "        b'Atl\\xe9tico Madrid', b'Esquerdo', b'3', b'183', b'73.936'],\n",
              "       [b'212462', b'Alex Telles', b'25', b'Brasil', b'84', b'87',\n",
              "        b'FC Porto', b'Esquerdo', b'3', b'155', b'71.214'],\n",
              "       [b'209499', b'Fabinho', b'24', b'Brasil', b'84', b'88',\n",
              "        b'Liverpool', b'Direito', b'3', b'188', b'78.018'],\n",
              "       [b'207865', b'Marquinhos', b'24', b'Brasil', b'84', b'89',\n",
              "        b'Paris Saint-Germain', b'Direito', b'3', b'183', b'74.843'],\n",
              "       [b'180403', b'Willian', b'29', b'Brasil', b'84', b'84',\n",
              "        b'Chelsea', b'Direito', b'3', b'175', b'78.018'],\n",
              "       [b'176769', b'Jonas', b'34', b'Brasil', b'84', b'84',\n",
              "        b'SL Benfica', b'Direito', b'3', b'155', b'73.936'],\n",
              "       [b'230666', b'Gabriel Jesus', b'21', b'Brasil', b'83', b'92',\n",
              "        b'Manchester City', b'Direito', b'2', b'175', b'73.028'],\n",
              "       [b'230481', b'Ronaldo Cabrais', b'26', b'Brasil', b'83', b'83',\n",
              "        b'Gr\\xeamio', b'Direito', b'1', b'152', b'74.843'],\n",
              "       [b'230375', b'Josu\\xe9 Chiamulera', b'26', b'Brasil', b'83',\n",
              "        b'83', b'Gr\\xeamio', b'Direito', b'1', b'185', b'79.832'],\n",
              "       [b'230294', b'Louri Beretta', b'26', b'Brasil', b'83', b'83',\n",
              "        b'Atl\\xe9tico Mineiro', b'Direito', b'1', b'188', b'83.007'],\n",
              "       [b'212523', b'Anderson Talisca', b'24', b'Brasil', b'83', b'90',\n",
              "        b'Guangzhou Evergrande Taobao FC', b'Esquerdo', b'2', b'191',\n",
              "        b'79.832'],\n",
              "       [b'207863', b'Felipe', b'29', b'Brasil', b'83', b'83',\n",
              "        b'FC Porto', b'Direito', b'3', b'191', b'86.183'],\n",
              "       [b'201995', b'Felipe Anderson', b'25', b'Brasil', b'83', b'85',\n",
              "        b'West Ham United', b'Direito', b'3', b'175', b'69.853'],\n",
              "       [b'200949', b'Lucas Moura', b'25', b'Brasil', b'83', b'84',\n",
              "        b'Tottenham Hotspur', b'Direito', b'3', b'175', b'69.853'],\n",
              "       [b'199914', b'Allan', b'27', b'Brasil', b'83', b'83', b'Napoli',\n",
              "        b'Direito', b'2', b'175', b'73.936'],\n",
              "       [b'194404', b'Neto', b'28', b'Brasil', b'83', b'84',\n",
              "        b'Valencia CF', b'Direito', b'2', b'191', b'83.915'],\n",
              "       [b'188152', b'Oscar', b'26', b'Brasil', b'83', b'84',\n",
              "        b'Shanghai SIPG FC', b'Direito', b'3', b'152', b'66.224'],\n",
              "       [b'185221', b'Luiz Gustavo', b'30', b'Brasil', b'83', b'83',\n",
              "        b'Olympique de Marseille', b'Esquerdo', b'3', b'188', b'78.018'],\n",
              "       [b'184942', b'Giuliano', b'28', b'Brasil', b'83', b'83',\n",
              "        b'Al Nassr', b'Direito', b'2', b'173', b'68.039'],\n",
              "       [b'179944', b'David Luiz', b'31', b'Brasil', b'83', b'83',\n",
              "        b'Chelsea', b'Direito', b'4', b'188', b'86.183'],\n",
              "       [b'176266', b'Lucas Leiva', b'31', b'Brasil', b'83', b'83',\n",
              "        b'Lazio', b'Direito', b'3', b'152', b'78.018'],\n",
              "       [b'230658', b'Arthur', b'21', b'Brasil', b'82', b'90',\n",
              "        b'FC Barcelona', b'Direito', b'1', b'170', b'73.028'],\n",
              "       [b'230258', b'Rosberto Dourado', b'30', b'Brasil', b'82', b'82',\n",
              "        b'Atl\\xe9tico Mineiro', b'Direito', b'1', b'175', b'69.853'],\n",
              "       [b'230225', b'Juiano Mestres', b'34', b'Brasil', b'82', b'82',\n",
              "        b'Cruzeiro', b'Direito', b'1', b'155', b'82.100'],\n",
              "       [b'230168', b'Raphaelito Anjos', b'30', b'Brasil', b'82', b'82',\n",
              "        b'Gr\\xeamio', b'Direito', b'1', b'191', b'84.822'],\n",
              "       [b'222737', b'Malcom', b'21', b'Brasil', b'82', b'89',\n",
              "        b'FC Barcelona', b'Esquerdo', b'2', b'173', b'73.936'],\n",
              "       [b'209297', b'Fred', b'25', b'Brasil', b'82', b'84',\n",
              "        b'Manchester United', b'Esquerdo', b'1', b'170', b'63.957'],\n",
              "       [b'201400', b'Rafinha', b'25', b'Brasil', b'82', b'87',\n",
              "        b'FC Barcelona', b'Esquerdo', b'2', b'175', b'71.214'],\n",
              "       [b'201305', b'Gabriel Paulista', b'27', b'Brasil', b'82', b'83',\n",
              "        b'Valencia CF', b'Direito', b'2', b'188', b'78.925'],\n",
              "       [b'195093', b'Willian Jos\\xe9', b'26', b'Brasil', b'82', b'83',\n",
              "        b'Real Sociedad', b'Direito', b'2', b'188', b'92.986'],\n",
              "       [b'188803', b'Taison', b'30', b'Brasil', b'82', b'82',\n",
              "        b'Shakhtar Donetsk', b'Direito', b'2', b'173', b'63.957'],\n",
              "       [b'168530', b'Jardel', b'32', b'Brasil', b'82', b'82',\n",
              "        b'SL Benfica', b'Direito', b'2', b'193', b'87.090'],\n",
              "       [b'146530', b'Dani Alves', b'35', b'Brasil', b'82', b'82',\n",
              "        b'Paris Saint-Germain', b'Direito', b'4', b'173', b'68.039'],\n",
              "       [b'230271', b'Laure Santeiro', b'30', b'Brasil', b'81', b'81',\n",
              "        b'Fluminense', b'Esquerdo', b'1', b'170', b'63.049'],\n",
              "       [b'189362', b'Hulk', b'31', b'Brasil', b'81', b'81',\n",
              "        b'Shanghai SIPG FC', b'Esquerdo', b'4', b'155', b'84.822'],\n",
              "       [b'169195', b'Renato Augusto', b'30', b'Brasil', b'81', b'81',\n",
              "        b'Beijing Sinobo Guoan FC', b'Direito', b'2', b'185', b'86.183'],\n",
              "       [b'144622', b'Raffael', b'33', b'Brasil', b'81', b'81',\n",
              "        b'Borussia M\\xf6nchengladbach', b'Direito', b'2', b'175',\n",
              "        b'68.946'],\n",
              "       [b'230347', b'Welington Dano', b'30', b'Brasil', b'80', b'80',\n",
              "        b'Cruzeiro', b'Esquerdo', b'1', b'152', b'68.946'],\n",
              "       [b'230234', b'Everton Andr\\xe3o', b'34', b'Brasil', b'80', b'80',\n",
              "        b'Fluminense', b'Direito', b'1', b'152', b'74.843'],\n",
              "       [b'221540', b'Ra\\xfal', b'28', b'Brasil', b'80', b'80',\n",
              "        b'SC Braga', b'Esquerdo', b'1', b'188', b'81.193'],\n",
              "       [b'205525', b'Bernard', b'25', b'Brasil', b'80', b'81',\n",
              "        b'Everton', b'Direito', b'2', b'165', b'59.874'],\n",
              "       [b'201119', b'Ismaily', b'28', b'Brasil', b'80', b'80',\n",
              "        b'Shakhtar Donetsk', b'Esquerdo', b'1', b'152', b'82.100'],\n",
              "       [b'191687', b'Maicon', b'29', b'Brasil', b'80', b'80',\n",
              "        b'Galatasaray SK', b'Direito', b'2', b'191', b'88.904'],\n",
              "       [b'180334', b'Marcelo', b'31', b'Brasil', b'80', b'80',\n",
              "        b'Olympique Lyonnais', b'Direito', b'2', b'191', b'84.822'],\n",
              "       [b'180175', b'Alexandre Pato', b'28', b'Brasil', b'80', b'80',\n",
              "        b'Tianjin Quanjian FC', b'Direito', b'3', b'155', b'81.193'],\n",
              "       [b'158625', b'Dante', b'34', b'Brasil', b'80', b'80', b'OGC Nice',\n",
              "        b'Esquerdo', b'3', b'188', b'84.822'],\n",
              "       [b'236632', b'David Neres', b'21', b'Brasil', b'79', b'86',\n",
              "        b'Ajax', b'Esquerdo', b'2', b'175', b'66.224'],\n",
              "       [b'233419', b'Raphinha', b'21', b'Brasil', b'79', b'86',\n",
              "        b'Sporting CP', b'Esquerdo', b'1', b'175', b'68.039'],\n",
              "       [b'231943', b'Richarlison', b'21', b'Brasil', b'79', b'86',\n",
              "        b'Everton', b'Direito', b'1', b'155', b'69.853'],\n",
              "       [b'230498', b'Luimo Boas Santos', b'30', b'Brasil', b'79', b'79',\n",
              "        b'Santos', b'Direito', b'1', b'175', b'73.028'],\n",
              "       [b'230312', b'Gabri Prest\\xe3o', b'26', b'Brasil', b'79', b'79',\n",
              "        b'Internacional', b'Direito', b'1', b'185', b'79.832'],\n",
              "       [b'230251', b'Melvin Parrela', b'30', b'Brasil', b'79', b'79',\n",
              "        b'Am\\xe9rica FC (Minas Gerais)', b'Direito', b'1', b'188',\n",
              "        b'87.997'],\n",
              "       [b'230212', b'Ant\\xf4nio Chiamuloira', b'30', b'Brasil', b'79',\n",
              "        b'79', b'Internacional', b'Esquerdo', b'1', b'183', b'78.925'],\n",
              "       [b'230201', b'Maikel Catarino', b'34', b'Brasil', b'79', b'79',\n",
              "        b'Atl\\xe9tico Mineiro', b'Direito', b'1', b'152', b'74.843'],\n",
              "       [b'210411', b'Ot\\xe1vio', b'23', b'Brasil', b'79', b'85',\n",
              "        b'FC Porto', b'Direito', b'1', b'173', b'71.214']], dtype=object)"
            ]
          },
          "metadata": {
            "tags": []
          },
          "execution_count": 42
        }
      ]
    },
    {
      "cell_type": "markdown",
      "metadata": {
        "id": "QdQ62olfg1dS",
        "colab_type": "text"
      },
      "source": [
        "17. Quantos são os jogadores brasileiros?"
      ]
    },
    {
      "cell_type": "code",
      "metadata": {
        "id": "qkIuvw4Dg1dS",
        "colab_type": "code",
        "colab": {
          "base_uri": "https://localhost:8080/",
          "height": 34
        },
        "outputId": "5caf265b-47f9-4cd6-8cbb-2d43830638fe"
      },
      "source": [
        "len(dados_brasil)"
      ],
      "execution_count": 43,
      "outputs": [
        {
          "output_type": "execute_result",
          "data": {
            "text/plain": [
              "69"
            ]
          },
          "metadata": {
            "tags": []
          },
          "execution_count": 43
        }
      ]
    },
    {
      "cell_type": "markdown",
      "metadata": {
        "id": "22I8ss-_g1dU",
        "colab_type": "text"
      },
      "source": [
        "18. Para as colunas `idade`, `altura` e `peso`, calcule:\n",
        "    - Média\n",
        "    - Mediana\n",
        "    - Máximo\n",
        "    - Mínimo"
      ]
    },
    {
      "cell_type": "code",
      "metadata": {
        "id": "E01yuBRug1dU",
        "colab_type": "code",
        "colab": {
          "base_uri": "https://localhost:8080/",
          "height": 51
        },
        "outputId": "39f39b23-aea5-4796-d2d3-3bfcc15baf4b"
      },
      "source": [
        "altura = dados[:, 9].astype(int)\n",
        "\n",
        "np.median(vetor) \n",
        "print(altura.mean)\n",
        "print(altura)\n",
        "#nao consegui fazer nada\n",
        "\n",
        "condicao_vazio = dados[:, 10] !=b''\n",
        "peso = dados[condicao_vazio, 10].astype(float)"
      ],
      "execution_count": 48,
      "outputs": [
        {
          "output_type": "stream",
          "text": [
            "<built-in method mean of numpy.ndarray object at 0x7fab47af63f0>\n",
            "[b'170' b'188' b'175' ... b'173' b'152' b'152']\n"
          ],
          "name": "stdout"
        }
      ]
    },
    {
      "cell_type": "markdown",
      "metadata": {
        "id": "1-M9wRZMg1dW",
        "colab_type": "text"
      },
      "source": [
        "19. Calcule o desvio padrão da `reputação` dos jogadores brasileiros"
      ]
    },
    {
      "cell_type": "code",
      "metadata": {
        "id": "hsm62128g1dW",
        "colab_type": "code",
        "colab": {
          "base_uri": "https://localhost:8080/",
          "height": 340
        },
        "outputId": "00545bba-ba11-41d0-9dd0-80f803ad2541"
      },
      "source": [
        "np.std(altura)"
      ],
      "execution_count": 51,
      "outputs": [
        {
          "output_type": "error",
          "ename": "TypeError",
          "evalue": "ignored",
          "traceback": [
            "\u001b[0;31m---------------------------------------------------------------------------\u001b[0m",
            "\u001b[0;31mTypeError\u001b[0m                                 Traceback (most recent call last)",
            "\u001b[0;32m<ipython-input-51-2aa44ec509fc>\u001b[0m in \u001b[0;36m<module>\u001b[0;34m()\u001b[0m\n\u001b[0;32m----> 1\u001b[0;31m \u001b[0mnp\u001b[0m\u001b[0;34m.\u001b[0m\u001b[0mstd\u001b[0m\u001b[0;34m(\u001b[0m\u001b[0maltura\u001b[0m\u001b[0;34m)\u001b[0m\u001b[0;34m\u001b[0m\u001b[0;34m\u001b[0m\u001b[0m\n\u001b[0m",
            "\u001b[0;32m<__array_function__ internals>\u001b[0m in \u001b[0;36mstd\u001b[0;34m(*args, **kwargs)\u001b[0m\n",
            "\u001b[0;32m/usr/local/lib/python3.6/dist-packages/numpy/core/fromnumeric.py\u001b[0m in \u001b[0;36mstd\u001b[0;34m(a, axis, dtype, out, ddof, keepdims)\u001b[0m\n\u001b[1;32m   3457\u001b[0m \u001b[0;34m\u001b[0m\u001b[0m\n\u001b[1;32m   3458\u001b[0m     return _methods._std(a, axis=axis, dtype=dtype, out=out, ddof=ddof,\n\u001b[0;32m-> 3459\u001b[0;31m                          **kwargs)\n\u001b[0m\u001b[1;32m   3460\u001b[0m \u001b[0;34m\u001b[0m\u001b[0m\n\u001b[1;32m   3461\u001b[0m \u001b[0;34m\u001b[0m\u001b[0m\n",
            "\u001b[0;32m/usr/local/lib/python3.6/dist-packages/numpy/core/_methods.py\u001b[0m in \u001b[0;36m_std\u001b[0;34m(a, axis, dtype, out, ddof, keepdims)\u001b[0m\n\u001b[1;32m    215\u001b[0m \u001b[0;32mdef\u001b[0m \u001b[0m_std\u001b[0m\u001b[0;34m(\u001b[0m\u001b[0ma\u001b[0m\u001b[0;34m,\u001b[0m \u001b[0maxis\u001b[0m\u001b[0;34m=\u001b[0m\u001b[0;32mNone\u001b[0m\u001b[0;34m,\u001b[0m \u001b[0mdtype\u001b[0m\u001b[0;34m=\u001b[0m\u001b[0;32mNone\u001b[0m\u001b[0;34m,\u001b[0m \u001b[0mout\u001b[0m\u001b[0;34m=\u001b[0m\u001b[0;32mNone\u001b[0m\u001b[0;34m,\u001b[0m \u001b[0mddof\u001b[0m\u001b[0;34m=\u001b[0m\u001b[0;36m0\u001b[0m\u001b[0;34m,\u001b[0m \u001b[0mkeepdims\u001b[0m\u001b[0;34m=\u001b[0m\u001b[0;32mFalse\u001b[0m\u001b[0;34m)\u001b[0m\u001b[0;34m:\u001b[0m\u001b[0;34m\u001b[0m\u001b[0;34m\u001b[0m\u001b[0m\n\u001b[1;32m    216\u001b[0m     ret = _var(a, axis=axis, dtype=dtype, out=out, ddof=ddof,\n\u001b[0;32m--> 217\u001b[0;31m                keepdims=keepdims)\n\u001b[0m\u001b[1;32m    218\u001b[0m \u001b[0;34m\u001b[0m\u001b[0m\n\u001b[1;32m    219\u001b[0m     \u001b[0;32mif\u001b[0m \u001b[0misinstance\u001b[0m\u001b[0;34m(\u001b[0m\u001b[0mret\u001b[0m\u001b[0;34m,\u001b[0m \u001b[0mmu\u001b[0m\u001b[0;34m.\u001b[0m\u001b[0mndarray\u001b[0m\u001b[0;34m)\u001b[0m\u001b[0;34m:\u001b[0m\u001b[0;34m\u001b[0m\u001b[0;34m\u001b[0m\u001b[0m\n",
            "\u001b[0;32m/usr/local/lib/python3.6/dist-packages/numpy/core/_methods.py\u001b[0m in \u001b[0;36m_var\u001b[0;34m(a, axis, dtype, out, ddof, keepdims)\u001b[0m\n\u001b[1;32m    184\u001b[0m     \u001b[0;32mif\u001b[0m \u001b[0misinstance\u001b[0m\u001b[0;34m(\u001b[0m\u001b[0marrmean\u001b[0m\u001b[0;34m,\u001b[0m \u001b[0mmu\u001b[0m\u001b[0;34m.\u001b[0m\u001b[0mndarray\u001b[0m\u001b[0;34m)\u001b[0m\u001b[0;34m:\u001b[0m\u001b[0;34m\u001b[0m\u001b[0;34m\u001b[0m\u001b[0m\n\u001b[1;32m    185\u001b[0m         arrmean = um.true_divide(\n\u001b[0;32m--> 186\u001b[0;31m                 arrmean, rcount, out=arrmean, casting='unsafe', subok=False)\n\u001b[0m\u001b[1;32m    187\u001b[0m     \u001b[0;32melse\u001b[0m\u001b[0;34m:\u001b[0m\u001b[0;34m\u001b[0m\u001b[0;34m\u001b[0m\u001b[0m\n\u001b[1;32m    188\u001b[0m         \u001b[0marrmean\u001b[0m \u001b[0;34m=\u001b[0m \u001b[0marrmean\u001b[0m\u001b[0;34m.\u001b[0m\u001b[0mdtype\u001b[0m\u001b[0;34m.\u001b[0m\u001b[0mtype\u001b[0m\u001b[0;34m(\u001b[0m\u001b[0marrmean\u001b[0m \u001b[0;34m/\u001b[0m \u001b[0mrcount\u001b[0m\u001b[0;34m)\u001b[0m\u001b[0;34m\u001b[0m\u001b[0;34m\u001b[0m\u001b[0m\n",
            "\u001b[0;31mTypeError\u001b[0m: unsupported operand type(s) for /: 'bytes' and 'int'"
          ]
        }
      ]
    },
    {
      "cell_type": "markdown",
      "metadata": {
        "id": "jkGGvf8Ig1dZ",
        "colab_type": "text"
      },
      "source": [
        "20. Qual jogador brasileiro tem menor pontencial?"
      ]
    },
    {
      "cell_type": "code",
      "metadata": {
        "id": "veoYLeJtg1dZ",
        "colab_type": "code",
        "colab": {
          "base_uri": "https://localhost:8080/",
          "height": 34
        },
        "outputId": "2ea24e83-c7c4-476b-ec91-3a2db3dc707a"
      },
      "source": [
        "menor_pont = np.array(dados[:,5], dtype=int)\n",
        "menor_pont.min()"
      ],
      "execution_count": 52,
      "outputs": [
        {
          "output_type": "execute_result",
          "data": {
            "text/plain": [
              "48"
            ]
          },
          "metadata": {
            "tags": []
          },
          "execution_count": 52
        }
      ]
    }
  ]
}